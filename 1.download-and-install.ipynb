{
 "cells": [
  {
   "cell_type": "markdown",
   "metadata": {
    "toc-hr-collapsed": false
   },
   "source": [
    "# Initial definitions"
   ]
  },
  {
   "cell_type": "code",
   "execution_count": 1,
   "metadata": {},
   "outputs": [
    {
     "name": "stdout",
     "output_type": "stream",
     "text": [
      "env: MONGODB_VERSION=4.0.11\n",
      "env: MONGODB_PATH=mongodb-4.0.11\n"
     ]
    }
   ],
   "source": [
    "%env MONGODB_VERSION      4.0.11\n",
    "%env MONGODB_PATH mongodb-4.0.11"
   ]
  },
  {
   "cell_type": "markdown",
   "metadata": {
    "toc-hr-collapsed": false
   },
   "source": [
    "# Preparing the environment"
   ]
  },
  {
   "cell_type": "markdown",
   "metadata": {
    "toc-hr-collapsed": false
   },
   "source": [
    "## Downloading MongoDB"
   ]
  },
  {
   "cell_type": "code",
   "execution_count": 3,
   "metadata": {},
   "outputs": [
    {
     "name": "stdout",
     "output_type": "stream",
     "text": [
      "mongodb-linux-x86_6 100%[===================>]  99.28M  4.77MB/s    in 23s     \n"
     ]
    }
   ],
   "source": [
    "!wget http://downloads.mongodb.org/linux/mongodb-linux-x86_64-ubuntu1804-${MONGODB_VERSION}.tgz  -q --show-progress"
   ]
  },
  {
   "cell_type": "markdown",
   "metadata": {
    "toc-hr-collapsed": false
   },
   "source": [
    "## Extracting compressed files and removing .tar"
   ]
  },
  {
   "cell_type": "code",
   "execution_count": 2,
   "metadata": {},
   "outputs": [],
   "source": [
    "!tar -xvf mongodb-linux-x86_64-ubuntu1804-4.0.11.tgz >/dev/null \n",
    "!rm       mongodb-linux-x86_64-ubuntu1804-4.0.11.tgz\n",
    "!mv mongodb-linux-x86_64-ubuntu1804-4.0.11 ${MONGODB_PATH}"
   ]
  },
  {
   "cell_type": "markdown",
   "metadata": {},
   "source": [
    "## Starting MongoDB Server"
   ]
  },
  {
   "cell_type": "code",
   "execution_count": null,
   "metadata": {},
   "outputs": [
    {
     "name": "stdout",
     "output_type": "stream",
     "text": [
      "2019-08-02T22:46:09.531+0000 I CONTROL  [main] Automatically disabling TLS 1.0, to force-enable TLS 1.0 specify --sslDisabledProtocols 'none'\n",
      "2019-08-02T22:46:09.533+0000 I CONTROL  [initandlisten] MongoDB starting : pid=108 port=27017 dbpath=mongodb-4.0.11/data/db 64-bit host=0e857562a8f0\n",
      "2019-08-02T22:46:09.533+0000 I CONTROL  [initandlisten] db version v4.0.11\n",
      "2019-08-02T22:46:09.533+0000 I CONTROL  [initandlisten] git version: 417d1a712e9f040d54beca8e4943edce218e9a8c\n",
      "2019-08-02T22:46:09.533+0000 I CONTROL  [initandlisten] OpenSSL version: OpenSSL 1.1.1  11 Sep 2018\n",
      "2019-08-02T22:46:09.533+0000 I CONTROL  [initandlisten] allocator: tcmalloc\n",
      "2019-08-02T22:46:09.533+0000 I CONTROL  [initandlisten] modules: none\n",
      "2019-08-02T22:46:09.533+0000 I CONTROL  [initandlisten] build environment:\n",
      "2019-08-02T22:46:09.533+0000 I CONTROL  [initandlisten]     distmod: ubuntu1804\n",
      "2019-08-02T22:46:09.533+0000 I CONTROL  [initandlisten]     distarch: x86_64\n",
      "2019-08-02T22:46:09.533+0000 I CONTROL  [initandlisten]     target_arch: x86_64\n",
      "2019-08-02T22:46:09.533+0000 I CONTROL  [initandlisten] options: { storage: { dbPath: \"mongodb-4.0.11/data/db\" } }\n",
      "2019-08-02T22:46:09.534+0000 I STORAGE  [initandlisten] \n",
      "2019-08-02T22:46:09.534+0000 I STORAGE  [initandlisten] ** WARNING: Using the XFS filesystem is strongly recommended with the WiredTiger storage engine\n",
      "2019-08-02T22:46:09.534+0000 I STORAGE  [initandlisten] **          See http://dochub.mongodb.org/core/prodnotes-filesystem\n",
      "2019-08-02T22:46:09.539+0000 I STORAGE  [initandlisten] wiredtiger_open config: create,cache_size=7228M,session_max=20000,eviction=(threads_min=4,threads_max=4),config_base=false,statistics=(fast),log=(enabled=true,archive=true,path=journal,compressor=snappy),file_manager=(close_idle_time=100000),statistics_log=(wait=0),verbose=(recovery_progress),\n",
      "2019-08-02T22:46:10.076+0000 I STORAGE  [initandlisten] WiredTiger message [1564785970:76897][108:0x7f109f976a40], txn-recover: Set global recovery timestamp: 0\n",
      "2019-08-02T22:46:10.086+0000 I RECOVERY [initandlisten] WiredTiger recoveryTimestamp. Ts: Timestamp(0, 0)\n",
      "2019-08-02T22:46:10.099+0000 I CONTROL  [initandlisten] \n",
      "2019-08-02T22:46:10.099+0000 I CONTROL  [initandlisten] ** WARNING: Access control is not enabled for the database.\n",
      "2019-08-02T22:46:10.099+0000 I CONTROL  [initandlisten] **          Read and write access to data and configuration is unrestricted.\n",
      "2019-08-02T22:46:10.099+0000 I CONTROL  [initandlisten] \n",
      "2019-08-02T22:46:10.099+0000 I CONTROL  [initandlisten] ** WARNING: This server is bound to localhost.\n",
      "2019-08-02T22:46:10.099+0000 I CONTROL  [initandlisten] **          Remote systems will be unable to connect to this server. \n",
      "2019-08-02T22:46:10.099+0000 I CONTROL  [initandlisten] **          Start the server with --bind_ip <address> to specify which IP \n",
      "2019-08-02T22:46:10.099+0000 I CONTROL  [initandlisten] **          addresses it should serve responses from, or with --bind_ip_all to\n",
      "2019-08-02T22:46:10.099+0000 I CONTROL  [initandlisten] **          bind to all interfaces. If this behavior is desired, start the\n",
      "2019-08-02T22:46:10.099+0000 I CONTROL  [initandlisten] **          server with --bind_ip 127.0.0.1 to disable this warning.\n",
      "2019-08-02T22:46:10.100+0000 I CONTROL  [initandlisten] \n",
      "2019-08-02T22:46:10.100+0000 I STORAGE  [initandlisten] createCollection: admin.system.version with provided UUID: 01f003ac-e865-4129-b951-26e125cfcae4\n",
      "2019-08-02T22:46:10.111+0000 I COMMAND  [initandlisten] setting featureCompatibilityVersion to 4.0\n",
      "2019-08-02T22:46:10.113+0000 I STORAGE  [initandlisten] createCollection: local.startup_log with generated UUID: fd0f36c9-bbec-451a-b782-1adabb0b8e9d\n",
      "2019-08-02T22:46:10.123+0000 I FTDC     [initandlisten] Initializing full-time diagnostic data capture with directory 'mongodb-4.0.11/data/db/diagnostic.data'\n",
      "2019-08-02T22:46:10.125+0000 I NETWORK  [initandlisten] waiting for connections on port 27017\n",
      "2019-08-02T22:46:10.125+0000 I STORAGE  [LogicalSessionCacheRefresh] createCollection: config.system.sessions with generated UUID: 5cf73572-f9ca-40eb-9eca-0a47ea1277ee\n",
      "2019-08-02T22:46:10.142+0000 I INDEX    [LogicalSessionCacheRefresh] build index on: config.system.sessions properties: { v: 2, key: { lastUse: 1 }, name: \"lsidTTLIndex\", ns: \"config.system.sessions\", expireAfterSeconds: 1800 }\n",
      "2019-08-02T22:46:10.142+0000 I INDEX    [LogicalSessionCacheRefresh] \t building index using bulk method; build may temporarily use up to 500 megabytes of RAM\n",
      "2019-08-02T22:46:10.142+0000 I INDEX    [LogicalSessionCacheRefresh] build index done.  scanned 0 total records. 0 secs\n",
      "2019-08-02T22:48:22.150+0000 I NETWORK  [listener] connection accepted from 127.0.0.1:49128 #1 (1 connection now open)\n",
      "2019-08-02T22:48:22.150+0000 I NETWORK  [conn1] received client metadata from 127.0.0.1:49128 conn1: { application: { name: \"MongoDB Shell\" }, driver: { name: \"MongoDB Internal Client\", version: \"4.0.11\" }, os: { type: \"Linux\", name: \"Ubuntu\", architecture: \"x86_64\", version: \"18.04\" } }\n",
      "2019-08-02T22:48:24.939+0000 I NETWORK  [conn1] end connection 127.0.0.1:49128 (0 connections now open)\n",
      "2019-08-02T22:49:40.683+0000 I NETWORK  [listener] connection accepted from 127.0.0.1:49274 #2 (1 connection now open)\n",
      "2019-08-02T22:49:40.683+0000 I NETWORK  [conn2] received client metadata from 127.0.0.1:49274 conn2: { application: { name: \"MongoDB Shell\" }, driver: { name: \"MongoDB Internal Client\", version: \"4.0.11\" }, os: { type: \"Linux\", name: \"Ubuntu\", architecture: \"x86_64\", version: \"18.04\" } }\n",
      "2019-08-02T22:49:40.694+0000 I NETWORK  [conn2] end connection 127.0.0.1:49274 (0 connections now open)\n",
      "2019-08-02T22:50:55.078+0000 I NETWORK  [listener] connection accepted from 127.0.0.1:49298 #3 (1 connection now open)\n",
      "2019-08-02T22:50:55.078+0000 I NETWORK  [conn3] received client metadata from 127.0.0.1:49298 conn3: { application: { name: \"MongoDB Shell\" }, driver: { name: \"MongoDB Internal Client\", version: \"4.0.11\" }, os: { type: \"Linux\", name: \"Ubuntu\", architecture: \"x86_64\", version: \"18.04\" } }\n",
      "2019-08-02T22:50:55.080+0000 I NETWORK  [conn3] end connection 127.0.0.1:49298 (0 connections now open)\n",
      "2019-08-02T22:51:01.629+0000 I NETWORK  [listener] connection accepted from 127.0.0.1:49308 #4 (1 connection now open)\n",
      "2019-08-02T22:51:01.630+0000 I NETWORK  [conn4] received client metadata from 127.0.0.1:49308 conn4: { application: { name: \"MongoDB Shell\" }, driver: { name: \"MongoDB Internal Client\", version: \"4.0.11\" }, os: { type: \"Linux\", name: \"Ubuntu\", architecture: \"x86_64\", version: \"18.04\" } }\n",
      "2019-08-02T22:51:01.632+0000 I NETWORK  [conn4] end connection 127.0.0.1:49308 (0 connections now open)\n",
      "2019-08-02T22:52:29.172+0000 I NETWORK  [listener] connection accepted from 127.0.0.1:49512 #5 (1 connection now open)\n",
      "2019-08-02T22:52:29.173+0000 I NETWORK  [conn5] received client metadata from 127.0.0.1:49512 conn5: { application: { name: \"MongoDB Shell\" }, driver: { name: \"MongoDB Internal Client\", version: \"4.0.11\" }, os: { type: \"Linux\", name: \"Ubuntu\", architecture: \"x86_64\", version: \"18.04\" } }\n",
      "2019-08-02T22:52:29.175+0000 I NETWORK  [conn5] end connection 127.0.0.1:49512 (0 connections now open)\n",
      "2019-08-02T22:52:41.883+0000 I NETWORK  [listener] connection accepted from 127.0.0.1:49516 #6 (1 connection now open)\n",
      "2019-08-02T22:52:41.883+0000 I NETWORK  [conn6] received client metadata from 127.0.0.1:49516 conn6: { application: { name: \"MongoDB Shell\" }, driver: { name: \"MongoDB Internal Client\", version: \"4.0.11\" }, os: { type: \"Linux\", name: \"Ubuntu\", architecture: \"x86_64\", version: \"18.04\" } }\n",
      "2019-08-02T22:52:41.885+0000 I NETWORK  [conn6] end connection 127.0.0.1:49516 (0 connections now open)\n",
      "2019-08-02T22:53:02.031+0000 I NETWORK  [listener] connection accepted from 127.0.0.1:49528 #7 (1 connection now open)\n",
      "2019-08-02T22:53:02.031+0000 I NETWORK  [conn7] received client metadata from 127.0.0.1:49528 conn7: { application: { name: \"MongoDB Shell\" }, driver: { name: \"MongoDB Internal Client\", version: \"4.0.11\" }, os: { type: \"Linux\", name: \"Ubuntu\", architecture: \"x86_64\", version: \"18.04\" } }\n",
      "2019-08-02T22:53:02.033+0000 I NETWORK  [conn7] end connection 127.0.0.1:49528 (0 connections now open)\n",
      "2019-08-02T22:53:18.873+0000 I NETWORK  [listener] connection accepted from 127.0.0.1:49646 #8 (1 connection now open)\n",
      "2019-08-02T22:53:18.874+0000 I NETWORK  [conn8] received client metadata from 127.0.0.1:49646 conn8: { application: { name: \"MongoDB Shell\" }, driver: { name: \"MongoDB Internal Client\", version: \"4.0.11\" }, os: { type: \"Linux\", name: \"Ubuntu\", architecture: \"x86_64\", version: \"18.04\" } }\n",
      "2019-08-02T22:53:18.876+0000 I NETWORK  [conn8] end connection 127.0.0.1:49646 (0 connections now open)\n",
      "2019-08-02T22:53:22.880+0000 I NETWORK  [listener] connection accepted from 127.0.0.1:49648 #9 (1 connection now open)\n",
      "2019-08-02T22:53:22.880+0000 I NETWORK  [conn9] received client metadata from 127.0.0.1:49648 conn9: { application: { name: \"MongoDB Shell\" }, driver: { name: \"MongoDB Internal Client\", version: \"4.0.11\" }, os: { type: \"Linux\", name: \"Ubuntu\", architecture: \"x86_64\", version: \"18.04\" } }\n",
      "2019-08-02T22:53:22.882+0000 I NETWORK  [conn9] end connection 127.0.0.1:49648 (0 connections now open)\n",
      "2019-08-02T22:54:34.147+0000 I NETWORK  [listener] connection accepted from 127.0.0.1:49696 #10 (1 connection now open)\n",
      "2019-08-02T22:54:34.147+0000 I NETWORK  [conn10] received client metadata from 127.0.0.1:49696 conn10: { application: { name: \"MongoDB Shell\" }, driver: { name: \"MongoDB Internal Client\", version: \"4.0.11\" }, os: { type: \"Linux\", name: \"Ubuntu\", architecture: \"x86_64\", version: \"18.04\" } }\n",
      "2019-08-02T22:55:00.825+0000 I NETWORK  [listener] connection accepted from 127.0.0.1:49722 #11 (2 connections now open)\n",
      "2019-08-02T22:55:00.826+0000 I NETWORK  [conn11] received client metadata from 127.0.0.1:49722 conn11: { application: { name: \"MongoDB Shell\" }, driver: { name: \"MongoDB Internal Client\", version: \"4.0.11\" }, os: { type: \"Linux\", name: \"Ubuntu\", architecture: \"x86_64\", version: \"18.04\" } }\n",
      "2019-08-02T22:55:00.840+0000 I NETWORK  [conn11] end connection 127.0.0.1:49722 (1 connection now open)\n",
      "2019-08-02T22:56:14.016+0000 I NETWORK  [listener] connection accepted from 127.0.0.1:49784 #12 (2 connections now open)\n",
      "2019-08-02T22:56:14.017+0000 I NETWORK  [conn12] received client metadata from 127.0.0.1:49784 conn12: { application: { name: \"MongoDB Shell\" }, driver: { name: \"MongoDB Internal Client\", version: \"4.0.11\" }, os: { type: \"Linux\", name: \"Ubuntu\", architecture: \"x86_64\", version: \"18.04\" } }\n",
      "2019-08-02T22:56:14.019+0000 I NETWORK  [conn12] end connection 127.0.0.1:49784 (1 connection now open)\n",
      "2019-08-02T22:58:08.261+0000 I NETWORK  [listener] connection accepted from 127.0.0.1:49906 #13 (2 connections now open)\n",
      "2019-08-02T22:58:08.262+0000 I NETWORK  [conn13] received client metadata from 127.0.0.1:49906 conn13: { application: { name: \"MongoDB Shell\" }, driver: { name: \"MongoDB Internal Client\", version: \"4.0.11\" }, os: { type: \"Linux\", name: \"Ubuntu\", architecture: \"x86_64\", version: \"18.04\" } }\n",
      "2019-08-02T22:58:08.272+0000 I NETWORK  [conn13] end connection 127.0.0.1:49906 (1 connection now open)\n"
     ]
    }
   ],
   "source": [
    "!mkdir ${MONGODB_PATH}/data/db -p\n",
    "!${MONGODB_PATH}/bin/mongod --dbpath ${MONGODB_PATH}/data/db"
   ]
  },
  {
   "cell_type": "code",
   "execution_count": null,
   "metadata": {},
   "outputs": [],
   "source": []
  }
 ],
 "metadata": {
  "kernelspec": {
   "display_name": "Python 3",
   "language": "python",
   "name": "python3"
  },
  "language_info": {
   "codemirror_mode": {
    "name": "ipython",
    "version": 3
   },
   "file_extension": ".py",
   "mimetype": "text/x-python",
   "name": "python",
   "nbconvert_exporter": "python",
   "pygments_lexer": "ipython3",
   "version": "3.7.3"
  }
 },
 "nbformat": 4,
 "nbformat_minor": 2
}
